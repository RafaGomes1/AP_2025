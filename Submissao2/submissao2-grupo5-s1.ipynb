{
 "cells": [
  {
   "cell_type": "markdown",
   "id": "62b90a3f",
   "metadata": {},
   "source": [
    "# Classificador de Texto: AI vs Human\n",
    "Este notebook treina um modelo para distinguir textos gerados por inteligência artificial e humanos."
   ]
  },
  {
   "cell_type": "code",
   "execution_count": null,
   "id": "3de7ce58",
   "metadata": {},
   "outputs": [],
   "source": [
    "import os\n",
    "import random\n",
    "import numpy as np\n",
    "import pandas as pd\n",
    "import tensorflow as tf\n",
    "from tensorflow.keras.models import Sequential\n",
    "from tensorflow.keras.layers import Flatten, Dense, Dropout, Embedding, Input\n",
    "from tensorflow.keras.preprocessing.text import Tokenizer\n",
    "from tensorflow.keras.preprocessing.sequence import pad_sequences\n",
    "from tensorflow.keras import initializers"
   ]
  },
  {
   "cell_type": "markdown",
   "id": "275983be",
   "metadata": {},
   "source": [
    "## 1. Definir semente para garantir reprodutibilidade"
   ]
  },
  {
   "cell_type": "code",
   "execution_count": null,
   "id": "f2209fa6",
   "metadata": {},
   "outputs": [],
   "source": [
    "os.environ['TF_DETERMINISTIC_OPS'] = '1'\n",
    "np.random.seed(42)\n",
    "tf.random.set_seed(42)\n",
    "random.seed(42)"
   ]
  },
  {
   "cell_type": "markdown",
   "id": "0100838c",
   "metadata": {},
   "source": [
    "## 2. Carregar os dados de treino, validação e teste"
   ]
  },
  {
   "cell_type": "code",
   "execution_count": null,
   "id": "7370b032",
   "metadata": {},
   "outputs": [],
   "source": [
    "def load_dataset(path, sep='\\t'):\n",
    "    return pd.read_csv(path, sep=sep, encoding='utf-8')\n",
    "\n",
    "X_train = load_dataset(\"data/test_input.csv\")\n",
    "y_train = load_dataset(\"data/test_output.csv\")\n",
    "\n",
    "X_val = load_dataset(\"data/human_ai_input.csv\")\n",
    "y_val = load_dataset(\"data/human_ai_output.csv\")\n",
    "\n",
    "X_test = load_dataset(\"data/dataset3_inputs.csv\")\n",
    "ids = X_test[\"ID\"]"
   ]
  },
  {
   "cell_type": "markdown",
   "id": "ca754a4a",
   "metadata": {},
   "source": [
    "## 3. Tokenização dos textos para vetorizar as frases"
   ]
  },
  {
   "cell_type": "code",
   "execution_count": null,
   "id": "23e998d4",
   "metadata": {},
   "outputs": [],
   "source": [
    "max_words = 20000\n",
    "max_len = 500\n",
    "\n",
    "tokenizer = Tokenizer(num_words=max_words, oov_token=\"<OOV>\")\n",
    "tokenizer.fit_on_texts(X_train[\"Text\"])\n",
    "\n",
    "def tokenize_pad(texts):\n",
    "    seq = tokenizer.texts_to_sequences(texts)\n",
    "    return pad_sequences(seq, maxlen=max_len)\n",
    "\n",
    "X_train_pad = tokenize_pad(X_train[\"Text\"])\n",
    "X_val_pad = tokenize_pad(X_val[\"Text\"])\n",
    "X_test_pad = tokenize_pad(X_test[\"Text\"])"
   ]
  },
  {
   "cell_type": "markdown",
   "id": "1a6d4b91",
   "metadata": {},
   "source": [
    "## 4. Converter rótulos para 0 (Human) e 1 (AI)"
   ]
  },
  {
   "cell_type": "code",
   "execution_count": null,
   "id": "6f8a925d",
   "metadata": {},
   "outputs": [],
   "source": [
    "y_train = y_train[\"Label\"].map({\"AI\": 1, \"Human\": 0}).values\n",
    "y_val = y_val[\"Label\"].map({\"AI\": 1, \"Human\": 0}).values"
   ]
  },
  {
   "cell_type": "markdown",
   "id": "0adfc8eb",
   "metadata": {},
   "source": [
    "## 5. Criar o modelo de rede neural"
   ]
  },
  {
   "cell_type": "code",
   "execution_count": null,
   "id": "2a9c6c63",
   "metadata": {},
   "outputs": [],
   "source": [
    "embedding_dim = 128\n",
    "model = Sequential([\n",
    "    Input((max_len,)),\n",
    "    Embedding(max_words, embedding_dim, embeddings_initializer=initializers.GlorotUniform(seed=44)),\n",
    "    Flatten(),\n",
    "    Dense(128, activation='relu'),\n",
    "    Dropout(0.4),\n",
    "    Dense(64, activation='relu'),\n",
    "    Dense(1, activation='sigmoid')\n",
    "])\n",
    "\n",
    "model.compile(optimizer='adam', loss='binary_crossentropy', metrics=['accuracy'])"
   ]
  },
  {
   "cell_type": "markdown",
   "id": "c1421b49",
   "metadata": {},
   "source": [
    "## 6. Treinar o modelo"
   ]
  },
  {
   "cell_type": "code",
   "execution_count": null,
   "id": "e97de406",
   "metadata": {},
   "outputs": [],
   "source": [
    "history = model.fit(X_train_pad, y_train, epochs=15, batch_size=64,\n",
    "                    validation_data=(X_val_pad, y_val), verbose=1)"
   ]
  },
  {
   "cell_type": "markdown",
   "id": "a077560d",
   "metadata": {},
   "source": [
    "## 7. Fazer previsões no conjunto de teste"
   ]
  },
  {
   "cell_type": "code",
   "execution_count": null,
   "id": "88935764",
   "metadata": {},
   "outputs": [],
   "source": [
    "preds = model.predict(X_test_pad)\n",
    "pred_labels = [\"AI\" if p > 0.5 else \"Human\" for p in preds.flatten()]"
   ]
  },
  {
   "cell_type": "markdown",
   "id": "a74f48d9",
   "metadata": {},
   "source": [
    "## 8. Exportar os resultados"
   ]
  },
  {
   "cell_type": "code",
   "execution_count": null,
   "id": "e2f01c55",
   "metadata": {},
   "outputs": [],
   "source": [
    "output_df = pd.DataFrame({\n",
    "    \"ID\": ids,\n",
    "    \"Label\": pred_labels\n",
    "})\n",
    "output_df.to_csv(\"data/submissao2-grupo5-s1.csv\", sep='\\t', index=False)\n",
    "print(\"Ficheiro de submissão gerado: submissao2-grupo5-s1.csv\")"
   ]
  }
 ],
 "metadata": {},
 "nbformat": 4,
 "nbformat_minor": 5
}
