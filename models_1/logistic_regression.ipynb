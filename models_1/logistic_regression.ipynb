{
 "cells": [
  {
   "cell_type": "code",
   "execution_count": null,
   "id": "initial_id",
   "metadata": {
    "ExecuteTime": {
     "end_time": "2025-03-17T21:30:42.504550Z",
     "start_time": "2025-03-17T21:30:41.984483Z"
    },
    "collapsed": true
   },
   "outputs": [],
   "source": [
    "import pandas as pd\n",
    "import numpy as np\n",
    "from sklearn.feature_extraction.text import CountVectorizer\n",
    "\n",
    "# Carregar os dados\n",
    "dataset2_inputs = pd.read_csv('data/dataset2_inputs.csv', delimiter='\\t')\n",
    "test_in = pd.read_csv('data/test_in.csv', delimiter='\\t')\n",
    "test_out = pd.read_csv('data/teste_out.csv', delimiter='\\t')\n",
    "\n",
    "# Pré-processar os dados\n",
    "X_train = test_in['Text']\n",
    "y_train = test_out['Label'].apply(lambda x: 1 if x == 'AI' else 0)  # 'AI' = 1, 'Human' = 0\n",
    "\n",
    "# Tokenização e vetorização dos dados usando CountVectorizer\n",
    "vectorizer = CountVectorizer(stop_words='english', max_features=1000)\n",
    "X_train_vect = vectorizer.fit_transform(X_train).toarray()\n",
    "\n",
    "# Funções para regressão logística\n",
    "def sigmoid(z):\n",
    "    return 1 / (1 + np.exp(-z))\n",
    "\n",
    "def logistic_regression(X, y, learning_rate=0.01, epochs=100):\n",
    "    m, n = X.shape\n",
    "    # Inicializar os pesos\n",
    "    W = np.zeros(n)\n",
    "    b = 0\n",
    "\n",
    "    # Descida do gradiente\n",
    "    for epoch in range(epochs):\n",
    "        # Modelo linear\n",
    "        model = np.dot(X, W) + b\n",
    "        # Probabilidades previstas\n",
    "        predictions = sigmoid(model)\n",
    "\n",
    "        # Cálculo dos gradientes\n",
    "        dw = (1/m) * np.dot(X.T, (predictions - y))\n",
    "        db = (1/m) * np.sum(predictions - y)\n",
    "\n",
    "        # Atualizar os parâmetros\n",
    "        W -= learning_rate * dw\n",
    "        b -= learning_rate * db\n",
    "\n",
    "    return W, b\n",
    "\n",
    "def predict(X, W, b):\n",
    "    model = np.dot(X, W) + b\n",
    "    predictions = sigmoid(model)\n",
    "    return [1 if p >= 0.5 else 0 for p in predictions]\n",
    "\n",
    "# Treinar o modelo\n",
    "W, b = logistic_regression(X_train_vect, y_train, learning_rate=0.01, epochs=100)\n",
    "\n",
    "# Carregar e pré-processar o dataset2_inputs para previsão\n",
    "X_input = dataset2_inputs['Text']\n",
    "X_input_vect = vectorizer.transform(X_input).toarray()\n",
    "\n",
    "# Prever os resultados usando o modelo treinado\n",
    "predictions = predict(X_input_vect, W, b)\n",
    "\n",
    "# Mapear as previsões para os rótulos ('AI' ou 'Human')\n",
    "predicted_labels = ['AI' if p == 1 else 'Human' for p in predictions]\n",
    "\n",
    "# Criar o DataFrame de saída\n",
    "dataset2_inputs['Predicted_Label'] = predicted_labels\n",
    "\n",
    "# Salvar as previsões num arquivo CSV no mesmo formato de entrada\n",
    "dataset2_inputs[['ID', 'Predicted_Label']].to_csv('data/dataset2_predictions_logistic-s1.csv', index=False)\n"
   ]
  }
 ],
 "metadata": {
  "kernelspec": {
   "display_name": "Python 3",
   "language": "python",
   "name": "python3"
  },
  "language_info": {
   "codemirror_mode": {
    "name": "ipython",
    "version": 2
   },
   "file_extension": ".py",
   "mimetype": "text/x-python",
   "name": "python",
   "nbconvert_exporter": "python",
   "pygments_lexer": "ipython2",
   "version": "2.7.6"
  }
 },
 "nbformat": 4,
 "nbformat_minor": 5
}
