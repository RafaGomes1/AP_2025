{
 "cells": [
  {
   "cell_type": "markdown",
   "id": "62b90a3f",
   "metadata": {},
   "source": [
    "# Classificador de Texto: AI vs Human\n",
    "Este notebook treina um modelo para distinguir textos gerados por inteligência artificial e humanos."
   ]
  },
  {
   "cell_type": "code",
   "execution_count": 1,
   "id": "3de7ce58",
   "metadata": {},
   "outputs": [],
   "source": [
    "import os\n",
    "import random\n",
    "import numpy as np\n",
    "import pandas as pd\n",
    "import tensorflow as tf\n",
    "from tensorflow.keras.models import Sequential\n",
    "from tensorflow.keras.layers import Flatten, Dense, Dropout, Embedding, Input\n",
    "from tensorflow.keras.preprocessing.text import Tokenizer\n",
    "from tensorflow.keras.preprocessing.sequence import pad_sequences\n",
    "from tensorflow.keras import initializers"
   ]
  },
  {
   "cell_type": "markdown",
   "id": "275983be",
   "metadata": {},
   "source": [
    "## 1. Definir semente para garantir reprodutibilidade"
   ]
  },
  {
   "cell_type": "code",
   "execution_count": 2,
   "id": "f2209fa6",
   "metadata": {},
   "outputs": [],
   "source": [
    "os.environ['TF_DETERMINISTIC_OPS'] = '1'\n",
    "np.random.seed(42)\n",
    "tf.random.set_seed(42)\n",
    "random.seed(42)"
   ]
  },
  {
   "cell_type": "markdown",
   "id": "0100838c",
   "metadata": {},
   "source": [
    "## 2. Carregar os dados de treino, validação e teste"
   ]
  },
  {
   "cell_type": "code",
   "execution_count": 3,
   "id": "7370b032",
   "metadata": {},
   "outputs": [],
   "source": [
    "def load_dataset(path, sep='\\t'):\n",
    "    return pd.read_csv(path, sep=sep, encoding='utf-8')\n",
    "\n",
    "X_train = load_dataset(\"../data/test_input.csv\")\n",
    "y_train = load_dataset(\"../data/test_output.csv\")\n",
    "\n",
    "X_val = load_dataset(\"../data/human_ai_input.csv\")\n",
    "y_val = load_dataset(\"../data/human_ai_output.csv\")\n",
    "\n",
    "X_test = load_dataset(\"../data/dataset3_inputs.csv\")\n",
    "ids = X_test[\"ID\"]"
   ]
  },
  {
   "cell_type": "markdown",
   "id": "ca754a4a",
   "metadata": {},
   "source": [
    "## 3. Tokenização dos textos para vetorizar as frases"
   ]
  },
  {
   "cell_type": "code",
   "execution_count": 22,
   "id": "23e998d4",
   "metadata": {},
   "outputs": [],
   "source": [
    "max_words = 20000\n",
    "max_len = 500\n",
    "\n",
    "tokenizer = Tokenizer(num_words=max_words, oov_token=\"<OOV>\")\n",
    "tokenizer.fit_on_texts(X_train[\"Text\"])\n",
    "\n",
    "def tokenize_pad(texts):\n",
    "    seq = tokenizer.texts_to_sequences(texts)\n",
    "    return pad_sequences(seq, maxlen=max_len)\n",
    "\n",
    "X_train_pad = tokenize_pad(X_train[\"Text\"])\n",
    "X_val_pad = tokenize_pad(X_val[\"Text\"])\n",
    "X_test_pad = tokenize_pad(X_test[\"Text\"])"
   ]
  },
  {
   "cell_type": "markdown",
   "id": "1a6d4b91",
   "metadata": {},
   "source": [
    "## 4. Converter rótulos para 0 (Human) e 1 (AI)"
   ]
  },
  {
   "cell_type": "code",
   "execution_count": 23,
   "id": "6f8a925d",
   "metadata": {},
   "outputs": [],
   "source": [
    "y_train = y_train[\"Label\"].map({\"AI\": 1, \"Human\": 0}).values\n",
    "y_val = y_val[\"Label\"].map({\"AI\": 1, \"Human\": 0}).values"
   ]
  },
  {
   "cell_type": "markdown",
   "id": "0adfc8eb",
   "metadata": {},
   "source": [
    "## 5. Criar o modelo de rede neural"
   ]
  },
  {
   "cell_type": "code",
   "execution_count": 24,
   "id": "2a9c6c63",
   "metadata": {},
   "outputs": [],
   "source": [
    "embedding_dim = 128\n",
    "model = Sequential([\n",
    "    Input((max_len,)),\n",
    "    Embedding(max_words, embedding_dim, embeddings_initializer=initializers.GlorotUniform(seed=44)),\n",
    "    Flatten(),\n",
    "    Dense(128, activation='relu'),\n",
    "    Dropout(0.4),\n",
    "    Dense(64, activation='relu'),\n",
    "    Dense(1, activation='sigmoid')\n",
    "])\n",
    "\n",
    "model.compile(optimizer='adam', loss='binary_crossentropy', metrics=['accuracy'])"
   ]
  },
  {
   "cell_type": "markdown",
   "id": "c1421b49",
   "metadata": {},
   "source": [
    "## 6. Treinar o modelo"
   ]
  },
  {
   "cell_type": "code",
   "execution_count": 25,
   "id": "e97de406",
   "metadata": {},
   "outputs": [
    {
     "name": "stdout",
     "output_type": "stream",
     "text": [
      "Epoch 1/15\n",
      "47/47 [==============================] - 4s 79ms/step - loss: 0.4076 - accuracy: 0.8043 - val_loss: nan - val_accuracy: 0.1665\n",
      "Epoch 2/15\n",
      "47/47 [==============================] - 3s 73ms/step - loss: 0.0023 - accuracy: 0.9997 - val_loss: nan - val_accuracy: 0.1667\n",
      "Epoch 3/15\n",
      "47/47 [==============================] - 3s 68ms/step - loss: 6.9537e-04 - accuracy: 1.0000 - val_loss: nan - val_accuracy: 0.1667\n",
      "Epoch 4/15\n",
      "47/47 [==============================] - 3s 73ms/step - loss: 2.6423e-04 - accuracy: 1.0000 - val_loss: nan - val_accuracy: 0.1667\n",
      "Epoch 5/15\n",
      "47/47 [==============================] - 3s 72ms/step - loss: 1.9928e-04 - accuracy: 1.0000 - val_loss: nan - val_accuracy: 0.1667\n",
      "Epoch 6/15\n",
      "47/47 [==============================] - 3s 69ms/step - loss: 1.9555e-04 - accuracy: 1.0000 - val_loss: nan - val_accuracy: 0.1667\n",
      "Epoch 7/15\n",
      "47/47 [==============================] - 3s 70ms/step - loss: 1.0828e-04 - accuracy: 1.0000 - val_loss: nan - val_accuracy: 0.1667\n",
      "Epoch 8/15\n",
      "47/47 [==============================] - 3s 67ms/step - loss: 8.4785e-05 - accuracy: 1.0000 - val_loss: nan - val_accuracy: 0.1667\n",
      "Epoch 9/15\n",
      "47/47 [==============================] - 3s 67ms/step - loss: 7.7739e-05 - accuracy: 1.0000 - val_loss: nan - val_accuracy: 0.1667\n",
      "Epoch 10/15\n",
      "47/47 [==============================] - 3s 66ms/step - loss: 4.6147e-05 - accuracy: 1.0000 - val_loss: nan - val_accuracy: 0.1667\n",
      "Epoch 11/15\n",
      "47/47 [==============================] - 3s 66ms/step - loss: 2.9122e-05 - accuracy: 1.0000 - val_loss: nan - val_accuracy: 0.1667\n",
      "Epoch 12/15\n",
      "47/47 [==============================] - 3s 66ms/step - loss: 4.4682e-05 - accuracy: 1.0000 - val_loss: nan - val_accuracy: 0.1667\n",
      "Epoch 13/15\n",
      "47/47 [==============================] - 3s 67ms/step - loss: 3.9967e-05 - accuracy: 1.0000 - val_loss: nan - val_accuracy: 0.1667\n",
      "Epoch 14/15\n",
      "47/47 [==============================] - 3s 68ms/step - loss: 2.5557e-05 - accuracy: 1.0000 - val_loss: nan - val_accuracy: 0.1667\n",
      "Epoch 15/15\n",
      "47/47 [==============================] - 3s 66ms/step - loss: 5.9159e-05 - accuracy: 1.0000 - val_loss: nan - val_accuracy: 0.1667\n"
     ]
    }
   ],
   "source": [
    "history = model.fit(X_train_pad, y_train, epochs=15, batch_size=64,\n",
    "                    validation_data=(X_val_pad, y_val), verbose=1)"
   ]
  },
  {
   "cell_type": "markdown",
   "id": "a077560d",
   "metadata": {},
   "source": [
    "## 7. Fazer previsões no conjunto de teste"
   ]
  },
  {
   "cell_type": "code",
   "execution_count": 26,
   "id": "88935764",
   "metadata": {},
   "outputs": [
    {
     "name": "stdout",
     "output_type": "stream",
     "text": [
      "4/4 [==============================] - 0s 5ms/step\n"
     ]
    }
   ],
   "source": [
    "preds = model.predict(X_test_pad)\n",
    "pred_labels = [\"AI\" if p > 0.5 else \"Human\" for p in preds.flatten()]"
   ]
  },
  {
   "cell_type": "markdown",
   "id": "a74f48d9",
   "metadata": {},
   "source": [
    "## 8. Exportar os resultados"
   ]
  },
  {
   "cell_type": "code",
   "execution_count": null,
   "id": "e2f01c55",
   "metadata": {},
   "outputs": [
    {
     "name": "stdout",
     "output_type": "stream",
     "text": [
      "✅ Ficheiro de submissão gerado: submissao2-grupo5-s1.csv\n"
     ]
    }
   ],
   "source": [
    "output_df = pd.DataFrame({\n",
    "    \"ID\": ids,\n",
    "    \"Label\": pred_labels\n",
    "})\n",
    "output_df.to_csv(\"../data/submissao2-grupo5-s1.csv\", sep='\\t', index=False)\n",
    "print(\"✅ Ficheiro de submissão gerado: submissao2-grupo5-s1.csv\")"
   ]
  }
 ],
 "metadata": {
  "kernelspec": {
   "display_name": "ap",
   "language": "python",
   "name": "python3"
  },
  "language_info": {
   "codemirror_mode": {
    "name": "ipython",
    "version": 3
   },
   "file_extension": ".py",
   "mimetype": "text/x-python",
   "name": "python",
   "nbconvert_exporter": "python",
   "pygments_lexer": "ipython3",
   "version": "3.10.16"
  }
 },
 "nbformat": 4,
 "nbformat_minor": 5
}
